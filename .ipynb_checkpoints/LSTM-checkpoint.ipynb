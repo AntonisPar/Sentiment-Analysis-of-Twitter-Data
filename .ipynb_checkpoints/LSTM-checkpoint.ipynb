{
 "cells": [
  {
   "cell_type": "code",
   "execution_count": 1,
   "id": "4e290a01",
   "metadata": {
    "scrolled": true
   },
   "outputs": [
    {
     "name": "stderr",
     "output_type": "stream",
     "text": [
      "[nltk_data] Downloading package wordnet to /home/antonis/nltk_data...\n",
      "[nltk_data]   Package wordnet is already up-to-date!\n",
      "[nltk_data] Downloading package punkt to /home/antonis/nltk_data...\n",
      "[nltk_data]   Package punkt is already up-to-date!\n",
      "[nltk_data] Downloading package averaged_perceptron_tagger to\n",
      "[nltk_data]     /home/antonis/nltk_data...\n",
      "[nltk_data]   Package averaged_perceptron_tagger is already up-to-\n",
      "[nltk_data]       date!\n"
     ]
    },
    {
     "name": "stdout",
     "output_type": "stream",
     "text": [
      "675.0286562729998\n"
     ]
    }
   ],
   "source": [
    "import pandas as pd\n",
    "import nltk\n",
    "import re\n",
    "import string\n",
    "from collections import defaultdict\n",
    "import numpy as np\n",
    "from nltk.corpus import stopwords\n",
    "from gensim.models import Word2Vec\n",
    "from keras.preprocessing.text import Tokenizer\n",
    "from sklearn.model_selection import train_test_split\n",
    "from sklearn.preprocessing import LabelEncoder\n",
    "from tensorflow.keras.preprocessing.sequence import pad_sequences\n",
    "from sklearn.preprocessing import LabelEncoder\n",
    "import nltk\n",
    "from nltk.corpus import stopwords\n",
    "from nltk.stem import WordNetLemmatizer\n",
    "import numpy as np\n",
    "import os\n",
    "import threading\n",
    "from nltk.stem import SnowballStemmer\n",
    "from nltk.stem import PorterStemmer\n",
    "from nltk.corpus import wordnet\n",
    "import time\n",
    "from timeit import default_timer as timer\n",
    "\n",
    "basic_stopwords = stopwords.words('english')\n",
    "wordnet_lemmatizer = WordNetLemmatizer()\n",
    "snowball_stemmer = SnowballStemmer('english')\n",
    "nltk.download('wordnet')\n",
    "nltk.download('punkt')\n",
    "nltk.download('averaged_perceptron_tagger')\n",
    "\n",
    "basic_stopwords = stopwords.words('english')\n",
    "\n",
    "df = pd.read_csv(\"dataset2.csv\",encoding='latin')\n",
    "df = df.drop(df.columns[[1,2,3,4]],axis=1)\n",
    "df = df.rename(columns={df.columns[0]: 'target', df.columns[1]: 'tweet'})\n",
    "\n",
    "closed_categories = ['CC', 'CD', 'DT', 'EX', 'IN', 'LS', 'MD', 'PDT', 'POS', 'PRP', 'PRP$', 'RP', 'TO', 'UH', 'WDT',\n",
    "                     'WP', 'WP$', 'WRB']\n",
    "\n",
    "vocabulary = []\n",
    "\n",
    "def custom_lemmatizer(word, pos_tag): #takes as argument the word and the pos tag\n",
    "\n",
    "    flag = 0\n",
    "    for tag in closed_categories:\n",
    "        if pos_tag == tag: #if pos tag is a close category tag, the functions returns flag with value 1\n",
    "            flag = 1\n",
    "            return word\n",
    "    if flag == 0: #if not , the word gets lemmatized according to its part of speech\n",
    "        if pos_tag.startswith(\"N\"):\n",
    "            word = wordnet_lemmatizer.lemmatize(word, wordnet.NOUN)\n",
    "            vocabulary.append(word)\n",
    "            return (word)\n",
    "        elif pos_tag.startswith('V'):\n",
    "            word = wordnet_lemmatizer.lemmatize(word, wordnet.VERB)\n",
    "            vocabulary.append(word)\n",
    "            return (word)\n",
    "        elif pos_tag.startswith('J'):\n",
    "            word = wordnet_lemmatizer.lemmatize(word, wordnet.ADJ)\n",
    "            vocabulary.append(word)\n",
    "            return (word)\n",
    "        elif pos_tag.startswith('R'):\n",
    "            word = wordnet_lemmatizer.lemmatize(word, wordnet.ADV)\n",
    "            vocabulary.append(word)\n",
    "            return (word)\n",
    "        else:\n",
    "            return word\n",
    "\n",
    "punctuation = string.punctuation\n",
    "def preprocess(tweet):\n",
    "    tweet = tweet.lower()\n",
    "    tweet = re.sub('((www.[^s]+)|(https?://[^s]+))',' ',tweet)\n",
    "    tweet = re.sub(r\"@\\S+\", \"\", tweet)                \n",
    "    tweet = nltk.word_tokenize(tweet)\n",
    "    remove_punctuation = str.maketrans('', '', punctuation)\n",
    "    tweet = [word.translate(remove_punctuation) for word in tweet if word not in basic_stopwords and word.isalnum() and not word.isdigit()]\n",
    "#     tweet = [PorterStemmer().stem(word) for word in tweet]\n",
    "    tagged_tweet = nltk.pos_tag(tweet)\n",
    "    tweet = [custom_lemmatizer(word[0],word[1]) for word in tagged_tweet]\n",
    "    tweet = [word for word in tweet if word is not None]\n",
    "    \n",
    "    return tweet\n",
    "\n",
    "start = timer()\n",
    "df.tweet =df.tweet.apply(lambda x:preprocess(x)) \n",
    "end = timer()\n",
    "print(end-start)"
   ]
  },
  {
   "cell_type": "markdown",
   "id": "178f9b79",
   "metadata": {},
   "source": []
  },
  {
   "cell_type": "code",
   "execution_count": 42,
   "id": "598f6c29",
   "metadata": {},
   "outputs": [
    {
     "name": "stdout",
     "output_type": "stream",
     "text": [
      "--2022-02-14 20:31:46--  http://nlp.stanford.edu/data/glove.6B.zip\n",
      "Resolving nlp.stanford.edu (nlp.stanford.edu)... 171.64.67.140\n",
      "Connecting to nlp.stanford.edu (nlp.stanford.edu)|171.64.67.140|:80... connected.\n",
      "HTTP request sent, awaiting response... 302 Found\n",
      "Location: https://nlp.stanford.edu/data/glove.6B.zip [following]\n",
      "--2022-02-14 20:31:46--  https://nlp.stanford.edu/data/glove.6B.zip\n",
      "Connecting to nlp.stanford.edu (nlp.stanford.edu)|171.64.67.140|:443... connected.\n",
      "HTTP request sent, awaiting response... 301 Moved Permanently\n",
      "Location: http://downloads.cs.stanford.edu/nlp/data/glove.6B.zip [following]\n",
      "--2022-02-14 20:31:47--  http://downloads.cs.stanford.edu/nlp/data/glove.6B.zip\n",
      "Resolving downloads.cs.stanford.edu (downloads.cs.stanford.edu)... 171.64.64.22\n",
      "Connecting to downloads.cs.stanford.edu (downloads.cs.stanford.edu)|171.64.64.22|:80... connected.\n",
      "HTTP request sent, awaiting response... 200 OK\n",
      "Length: 862182613 (822M) [application/zip]\n",
      "Saving to: ‘glove.6B.zip’\n",
      "\n",
      "glove.6B.zip        100%[===================>] 822,24M  5,14MB/s    in 2m 59s  \n",
      "\n",
      "2022-02-14 20:34:47 (4,59 MB/s) - ‘glove.6B.zip’ saved [862182613/862182613]\n",
      "\n",
      "Archive:  glove.6B.zip\n",
      "  inflating: glove.6B.50d.txt        \n",
      "  inflating: glove.6B.100d.txt       \n",
      "  inflating: glove.6B.200d.txt       \n",
      "  inflating: glove.6B.300d.txt       \n"
     ]
    }
   ],
   "source": [
    "!wget http://nlp.stanford.edu/data/glove.6B.zip\n",
    "!unzip glove.6B.zip"
   ]
  },
  {
   "cell_type": "code",
   "execution_count": null,
   "id": "9648a1f1",
   "metadata": {},
   "outputs": [],
   "source": [
    "#GLOVE EMBEDDINGS\n",
    "\n",
    "embeddings_index = {}\n",
    "f = open('/kaggle/working/glove.6B.300d.txt')\n",
    "for line in f:\n",
    "    values = line.split()\n",
    "    word = value = values[0]\n",
    "    coefs = np.asarray(values[1:], dtype='float32')\n",
    "    embeddings_index[word] = coefs\n",
    "f.close()\n",
    "print('Found %s word vectors.' %len(embeddings_index))\n",
    "\n"
   ]
  },
  {
   "cell_type": "code",
   "execution_count": 2,
   "id": "f598384b",
   "metadata": {},
   "outputs": [],
   "source": [
    "\n",
    "model = Word2Vec(df.tweet,window=4,workers=4,min_count=1)\n",
    "all_normed_vectors = model.wv.get_normed_vectors()\n",
    "model.save('model.bin')\n",
    "\n",
    "filename = 'model.txt'\n",
    "model.wv.save_word2vec_format(filename,binary=False)\n",
    "\n",
    "word_vectors = {}\n",
    "\n",
    "file = open('model.txt',encoding='utf-8')\n",
    "\n",
    "for line in file:\n",
    "    vector_values = line.split()\n",
    "    vector = np.asarray(vector_values[1:])\n",
    "    word_vectors[vector_values[0]] = vector"
   ]
  },
  {
   "cell_type": "code",
   "execution_count": 7,
   "id": "61ffbe3b",
   "metadata": {},
   "outputs": [],
   "source": [
    "df['target'] = df['target'].replace(4,1)\n",
    "\n",
    "tokenizer = Tokenizer()\n",
    "\n",
    "tokenizer.fit_on_texts(df.tweet)\n",
    "\n",
    "vocabulary = tokenizer.word_index #gia to word index\n",
    "\n",
    "train_data, test_data = train_test_split(df, test_size=0.2,random_state=4324234)\n",
    "\n",
    "\n",
    "x_train = pad_sequences(tokenizer.texts_to_sequences(train_data.tweet),maxlen = 30)\n",
    "x_test = pad_sequences(tokenizer.texts_to_sequences(test_data.tweet),maxlen = 30)\n",
    "\n",
    "\n",
    "y_train = train_data.target\n",
    "y_test = test_data.target\n"
   ]
  },
  {
   "cell_type": "code",
   "execution_count": null,
   "id": "82355353",
   "metadata": {},
   "outputs": [],
   "source": [
    "#GLOVE\n",
    "# creating an matrix with zeroes of shape vocab x embedding dimension\n",
    "embedding_matrix = np.zeros((vocab_size, 300))\n",
    "# Iterate through word, index in the dictionary\n",
    "for word, i in vocabulary.items():\n",
    "    # extract the corresponding vector for the vocab indice of same word\n",
    "    embedding_vector = embeddings_index.get(word)\n",
    "    if embedding_vector is not None:\n",
    "        # Storing it in a matrix\n",
    "        embedding_matrix[i] = embedding_vector"
   ]
  },
  {
   "cell_type": "code",
   "execution_count": null,
   "id": "bc2ddacc",
   "metadata": {},
   "outputs": [],
   "source": [
    "num_words = len(vocabulary) + 1\n",
    "embedding_layer = tf.keras.layers.Embedding(vocab_size,300,weights=[embedding_matrix],\n",
    "                                          input_length=30,trainable=False)"
   ]
  },
  {
   "cell_type": "markdown",
   "id": "506fd187",
   "metadata": {},
   "source": [
    "print(x_train.shape)\n",
    "print(x_test.shape)\n",
    "print(y_train.shape)\n",
    "print(y_test.shape)\n",
    "\n"
   ]
  },
  {
   "cell_type": "code",
   "execution_count": 8,
   "id": "38f949bc",
   "metadata": {},
   "outputs": [],
   "source": [
    "num_words = len(vocabulary) + 1\n",
    "\n",
    "embedded_matrix = np.zeros((num_words,100))\n",
    "for word,i in vocabulary.items():\n",
    "    embedded_vector = word_vectors.get(word)\n",
    "    embedded_matrix[i] = embedded_vector\n",
    "\n"
   ]
  },
  {
   "cell_type": "code",
   "execution_count": 22,
   "id": "a09568ca",
   "metadata": {},
   "outputs": [
    {
     "ename": "SyntaxError",
     "evalue": "unexpected EOF while parsing (<ipython-input-22-b21ab4782752>, line 25)",
     "output_type": "error",
     "traceback": [
      "\u001b[0;36m  File \u001b[0;32m\"<ipython-input-22-b21ab4782752>\"\u001b[0;36m, line \u001b[0;32m25\u001b[0m\n\u001b[0;31m    print(model.summary()\u001b[0m\n\u001b[0m                         ^\u001b[0m\n\u001b[0;31mSyntaxError\u001b[0m\u001b[0;31m:\u001b[0m unexpected EOF while parsing\n"
     ]
    }
   ],
   "source": [
    "from keras.layers import LSTM, Conv1D, Dense, Flatten, MaxPooling1D, Dropout\n",
    "import tensorflow as tf\n",
    "from tensorflow import keras\n",
    "from tensorflow.keras import layers\n",
    "from tensorflow.keras.layers import Conv1D, Bidirectional, LSTM, Dense, Input, Dropout\n",
    "from tensorflow.keras.layers import SpatialDropout1D\n",
    "from tensorflow.keras.callbacks import ModelCheckpoint\n",
    "\n",
    "\n",
    "embedding_layer = tf.keras.layers.Embedding(num_words,100,weights=[embedded_matrix],\n",
    "                                          input_length=30,trainable=False)\n",
    "\n",
    "lstm_out = 64\n",
    "\n",
    "model = Sequential()\n",
    "model.add(embedding_layer)\n",
    "model.add(Conv1D(filters=64, kernel_size=5, activation='relu'))\n",
    "model.add(MaxPooling1D(pool_size=2))\n",
    "model.add(Dropout(0.7))\n",
    "model.add(LSTM(units=lstm_out))\n",
    "model.add(Dropout(0.7))\n",
    "model.add(Dense(1, activation='sigmoid'))\n",
    "model.compile(loss='binary_crossentropy', optimizer='adam', metrics=['accuracy'])\n",
    "ReduceLROnPlateau = ReduceLROnPlateau(factor=0.1,min_lr = 0.01, monitor = 'val_loss',verbose = 1)\n",
    "print(model.summary()"
   ]
  },
  {
   "cell_type": "code",
   "execution_count": 24,
   "id": "bbed796d",
   "metadata": {},
   "outputs": [
    {
     "name": "stdout",
     "output_type": "stream",
     "text": [
      "Epoch 1/10\n",
      "1250/1250 [==============================] - 91s 73ms/step - loss: 0.5046 - accuracy: 0.7526 - val_loss: 0.4869 - val_accuracy: 0.7633\n",
      "Epoch 2/10\n",
      "1250/1250 [==============================] - 92s 73ms/step - loss: 0.5015 - accuracy: 0.7547 - val_loss: 0.4871 - val_accuracy: 0.7651\n",
      "Epoch 3/10\n",
      "1250/1250 [==============================] - 92s 74ms/step - loss: 0.4998 - accuracy: 0.7558 - val_loss: 0.4876 - val_accuracy: 0.7657\n",
      "Epoch 4/10\n",
      "1250/1250 [==============================] - 91s 73ms/step - loss: 0.4982 - accuracy: 0.7571 - val_loss: 0.4845 - val_accuracy: 0.7668\n",
      "Epoch 5/10\n",
      "1250/1250 [==============================] - 90s 72ms/step - loss: 0.4973 - accuracy: 0.7574 - val_loss: 0.4823 - val_accuracy: 0.7675\n",
      "Epoch 6/10\n",
      "1250/1250 [==============================] - 89s 72ms/step - loss: 0.4962 - accuracy: 0.7583 - val_loss: 0.4866 - val_accuracy: 0.7664\n",
      "Epoch 7/10\n",
      "1250/1250 [==============================] - 90s 72ms/step - loss: 0.4949 - accuracy: 0.7592 - val_loss: 0.4833 - val_accuracy: 0.7687\n",
      "Epoch 8/10\n",
      "1250/1250 [==============================] - 93s 74ms/step - loss: 0.4944 - accuracy: 0.7597 - val_loss: 0.4841 - val_accuracy: 0.7684\n",
      "Epoch 9/10\n",
      "1250/1250 [==============================] - 91s 73ms/step - loss: 0.4939 - accuracy: 0.7600 - val_loss: 0.4839 - val_accuracy: 0.7690\n",
      "Epoch 10/10\n",
      "1250/1250 [==============================] - 91s 73ms/step - loss: 0.4936 - accuracy: 0.7600 - val_loss: 0.4846 - val_accuracy: 0.7692\n"
     ]
    }
   ],
   "source": [
    "training = model.fit(x_train, y_train, batch_size=1024, epochs=10,\n",
    "                    validation_data=(x_test, y_test), callbacks=[ReduceLROnPlateau])"
   ]
  },
  {
   "cell_type": "code",
   "execution_count": 25,
   "id": "c15db01d",
   "metadata": {},
   "outputs": [
    {
     "name": "stderr",
     "output_type": "stream",
     "text": [
      "WARNING:absl:Found untraced functions such as lstm_cell_9_layer_call_fn, lstm_cell_9_layer_call_and_return_conditional_losses, lstm_cell_9_layer_call_fn, lstm_cell_9_layer_call_and_return_conditional_losses, lstm_cell_9_layer_call_and_return_conditional_losses while saving (showing 5 of 5). These functions will not be directly callable after loading.\n"
     ]
    },
    {
     "name": "stdout",
     "output_type": "stream",
     "text": [
      "INFO:tensorflow:Assets written to: lstm2/assets\n"
     ]
    },
    {
     "name": "stderr",
     "output_type": "stream",
     "text": [
      "INFO:tensorflow:Assets written to: lstm2/assets\n"
     ]
    }
   ],
   "source": [
    "model.save('lstm2')"
   ]
  },
  {
   "cell_type": "code",
   "execution_count": 26,
   "id": "ec6cbce5",
   "metadata": {},
   "outputs": [
    {
     "name": "stdout",
     "output_type": "stream",
     "text": [
      "32/32 [==============================] - 11s 334ms/step\n"
     ]
    }
   ],
   "source": [
    "def predict_tweet_sentiment(score):\n",
    "    return \"Positive\" if score>0.5 else \"Negative\"\n",
    "scores = model.predict(x_test, verbose=1, batch_size=10000)\n",
    "model_predictions = [predict_tweet_sentiment(score) for score in scores]"
   ]
  },
  {
   "cell_type": "code",
   "execution_count": 33,
   "id": "2c03f18a",
   "metadata": {},
   "outputs": [],
   "source": [
    "\n",
    "y_pred = model.predict(x_test)\n"
   ]
  },
  {
   "cell_type": "code",
   "execution_count": 41,
   "id": "be7b20b7",
   "metadata": {},
   "outputs": [
    {
     "data": {
      "image/png": "[encoded data removed]",
      "text/plain": [
       "<Figure size 432x288 with 1 Axes>"
      ]
     },
     "metadata": {
      "needs_background": "light"
     },
     "output_type": "display_data"
    }
   ],
   "source": [
    "from sklearn.metrics import confusion_matrix, roc_curve,  roc_auc_score, classification_report\n",
    "import matplotlib.pyplot as plt\n",
    "\n",
    "\n",
    "rocAuc = roc_auc_score(y_test, y_pred)\n",
    "\n",
    "falsePositiveRate, truePositiveRate, _ = roc_curve(y_test, y_pred)\n",
    "\n",
    "plt.figure()\n",
    "\n",
    "plt.plot(falsePositiveRate, truePositiveRate, color='green',\n",
    "         lw=3, label='ROC curve (area = %0.2f)' % rocAuc)\n",
    "\n",
    "plt.xlim([0.0, 1.0])\n",
    "plt.ylim([0.0, 1.05])\n",
    "plt.xlabel('False Positive Rate')\n",
    "plt.ylabel('True Positive Rate')\n",
    "plt.title('ROC')\n",
    "plt.legend(loc=\"lower right\")\n",
    "plt.show()"
   ]
  },
  {
   "cell_type": "code",
   "execution_count": 39,
   "id": "b60ec2f6",
   "metadata": {},
   "outputs": [
    {
     "data": {
      "image/png": "[encoded data removed]",
      "text/plain": [
       "<Figure size 432x288 with 1 Axes>"
      ]
     },
     "metadata": {
      "needs_background": "light"
     },
     "output_type": "display_data"
    }
   ],
   "source": [
    "\n",
    "plt.show()"
   ]
  }
 ],
 "metadata": {
  "kernelspec": {
   "display_name": "Python 3",
   "language": "python",
   "name": "python3"
  },
  "language_info": {
   "codemirror_mode": {
    "name": "ipython",
    "version": 3
   },
   "file_extension": ".py",
   "mimetype": "text/x-python",
   "name": "python",
   "nbconvert_exporter": "python",
   "pygments_lexer": "ipython3",
   "version": "3.6.15"
  }
 },
 "nbformat": 4,
 "nbformat_minor": 5
}

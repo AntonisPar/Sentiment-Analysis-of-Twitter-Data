{
 "cells": [
  {
   "cell_type": "code",
   "execution_count": 1,
   "id": "4e290a01",
   "metadata": {
    "scrolled": true
   },
   "outputs": [
    {
     "name": "stderr",
     "output_type": "stream",
     "text": [
      "[nltk_data] Downloading package wordnet to /home/antonis/nltk_data...\n",
      "[nltk_data]   Package wordnet is already up-to-date!\n",
      "[nltk_data] Downloading package punkt to /home/antonis/nltk_data...\n",
      "[nltk_data]   Package punkt is already up-to-date!\n",
      "[nltk_data] Downloading package averaged_perceptron_tagger to\n",
      "[nltk_data]     /home/antonis/nltk_data...\n",
      "[nltk_data]   Package averaged_perceptron_tagger is already up-to-\n",
      "[nltk_data]       date!\n"
     ]
    },
    {
     "name": "stdout",
     "output_type": "stream",
     "text": [
      "675.2387911940001\n"
     ]
    }
   ],
   "source": [
    "import pandas as pd\n",
    "import nltk\n",
    "import re\n",
    "import string\n",
    "from collections import defaultdict\n",
    "import numpy as np\n",
    "from nltk.corpus import stopwords\n",
    "from gensim.models import Word2Vec\n",
    "from keras.preprocessing.text import Tokenizer\n",
    "from sklearn.model_selection import train_test_split\n",
    "from sklearn.preprocessing import LabelEncoder\n",
    "from tensorflow.keras.preprocessing.sequence import pad_sequences\n",
    "from sklearn.preprocessing import LabelEncoder\n",
    "import nltk\n",
    "from nltk.corpus import stopwords\n",
    "from nltk.stem import WordNetLemmatizer\n",
    "import numpy as np\n",
    "import os\n",
    "import threading\n",
    "from nltk.stem import SnowballStemmer\n",
    "from nltk.stem import PorterStemmer\n",
    "from nltk.corpus import wordnet\n",
    "import time\n",
    "from timeit import default_timer as timer\n",
    "\n",
    "basic_stopwords = stopwords.words('english')\n",
    "wordnet_lemmatizer = WordNetLemmatizer()\n",
    "snowball_stemmer = SnowballStemmer('english')\n",
    "nltk.download('wordnet')\n",
    "nltk.download('punkt')\n",
    "nltk.download('averaged_perceptron_tagger')\n",
    "\n",
    "basic_stopwords = stopwords.words('english')\n",
    "\n",
    "df = pd.read_csv(\"dataset2.csv\",encoding='latin')\n",
    "df = df.drop(df.columns[[1,2,3,4]],axis=1)\n",
    "df = df.rename(columns={df.columns[0]: 'target', df.columns[1]: 'tweet'})\n",
    "\n",
    "vocabulary = []\n",
    "\n",
    "def custom_lemmatizer(word, pos_tag): #takes as argument the word and the pos tag\n",
    "    if pos_tag.startswith(\"N\"):\n",
    "        word = wordnet_lemmatizer.lemmatize(word, wordnet.NOUN)\n",
    "        return (word)\n",
    "    elif pos_tag.startswith('V'):\n",
    "        word = wordnet_lemmatizer.lemmatize(word, wordnet.VERB)\n",
    "        return (word)\n",
    "    elif pos_tag.startswith('J'):\n",
    "        word = wordnet_lemmatizer.lemmatize(word, wordnet.ADJ)\n",
    "        vocabulary.append(word)\n",
    "        return (word)\n",
    "    elif pos_tag.startswith('R'):\n",
    "        word = wordnet_lemmatizer.lemmatize(word, wordnet.ADV)\n",
    "        return (word)\n",
    "    else:\n",
    "        return word\n",
    "\n",
    "punctuation = string.punctuation\n",
    "def preprocess(tweet):\n",
    "    tweet = tweet.lower()\n",
    "    tweet = re.sub('((www.[^s]+)|(https?://[^s]+))',' ',tweet)\n",
    "    tweet = re.sub(r\"@\\S+\", \"\", tweet)                \n",
    "    tweet = nltk.word_tokenize(tweet)\n",
    "    remove_punctuation = str.maketrans('', '', punctuation)\n",
    "    tweet = [word.translate(remove_punctuation) for word in tweet if word not in basic_stopwords and word.isalnum() and not word.isdigit()]\n",
    "#     tweet = [PorterStemmer().stem(word) for word in tweet]\n",
    "    tagged_tweet = nltk.pos_tag(tweet)\n",
    "    tweet = [custom_lemmatizer(word[0],word[1]) for word in tagged_tweet]\n",
    "    tweet = [word for word in tweet if word is not None]\n",
    "    \n",
    "    return tweet\n",
    "\n",
    "start = timer()\n",
    "df.tweet =df.tweet.apply(lambda x:preprocess(x)) \n",
    "end = timer()\n",
    "print(end-start)"
   ]
  },
  {
   "cell_type": "markdown",
   "id": "178f9b79",
   "metadata": {},
   "source": []
  },
  {
   "cell_type": "code",
   "execution_count": 2,
   "id": "f598384b",
   "metadata": {},
   "outputs": [],
   "source": [
    "#CUSTOM EMBEDDINGS\n",
    "model = Word2Vec(df.tweet,window=4,workers=4,min_count=1)\n",
    "all_normed_vectors = model.wv.get_normed_vectors()\n",
    "model.save('model.bin')\n",
    "\n",
    "filename = 'model.txt'\n",
    "model.wv.save_word2vec_format(filename,binary=False)\n",
    "\n",
    "word_vectors = {}\n",
    "\n",
    "file = open('model.txt',encoding='utf-8')\n",
    "\n",
    "#creating dictionary for word vectors\n",
    "for line in file:\n",
    "    vector_values = line.split()\n",
    "    vector = np.asarray(vector_values[1:])\n",
    "    word_vectors[vector_values[0]] = vector\n"
   ]
  },
  {
   "cell_type": "code",
   "execution_count": 3,
   "id": "61ffbe3b",
   "metadata": {},
   "outputs": [],
   "source": [
    "df['target'] = df['target'].replace(4,1) #setting 1 as the positive sentiment value\n",
    "\n",
    "tokenizer = Tokenizer() \n",
    "\n",
    "tokenizer.fit_on_texts(df.tweet)\n",
    "\n",
    "vocabulary = tokenizer.word_index #vocabulary with all the words\n",
    "\n",
    "train_data, remaining_data = train_test_split(df, train_size=0.8,random_state=4324234)#splitting data to 80% training and 20%\n",
    "\n",
    "\n",
    "X_rem = pad_sequences(tokenizer.texts_to_sequences(remaining_data.tweet),maxlen = 30)#padding sequences so they all have equal length \n",
    "y_rem = remaining_data.target\n",
    "\n",
    "#splitting the rest 20%.\n",
    "#10% for validation during training and 10% to test the finalized model\n",
    "x_valid,x_test,y_valid,y_test = train_test_split(X_rem,y_rem, test_size=0.5,random_state=4354312)\n",
    "\n",
    "x_train = pad_sequences(tokenizer.texts_to_sequences(train_data.tweet),maxlen = 30)\n",
    "y_train = train_data.target\n",
    "\n"
   ]
  },
  {
   "cell_type": "markdown",
   "id": "aba180f4",
   "metadata": {},
   "source": [
    "print(x_train.shape)\n",
    "print(x_test.shape)\n",
    "print(y_train.shape)\n",
    "print(y_test.shape)\n",
    "\n"
   ]
  },
  {
   "cell_type": "code",
   "execution_count": 4,
   "id": "38f949bc",
   "metadata": {},
   "outputs": [],
   "source": [
    "\n",
    "num_words = len(vocabulary) + 1\n",
    "\n",
    "embedded_matrix = np.zeros((num_words,100)) #initialize the embedding space with zeros\n",
    "for word,i in vocabulary.items(): #for every word in document\n",
    "    embedded_vector = word_vectors.get(word) \n",
    "    embedded_matrix[i] = embedded_vector\n",
    "\n"
   ]
  },
  {
   "cell_type": "code",
   "execution_count": 5,
   "id": "a09568ca",
   "metadata": {},
   "outputs": [
    {
     "name": "stdout",
     "output_type": "stream",
     "text": [
      "Model: \"sequential\"\n",
      "_________________________________________________________________\n",
      "Layer (type)                 Output Shape              Param #   \n",
      "=================================================================\n",
      "embedding (Embedding)        (None, 30, 100)           25926400  \n",
      "_________________________________________________________________\n",
      "conv1d (Conv1D)              (None, 26, 100)           50100     \n",
      "_________________________________________________________________\n",
      "max_pooling1d (MaxPooling1D) (None, 13, 100)           0         \n",
      "_________________________________________________________________\n",
      "dropout (Dropout)            (None, 13, 100)           0         \n",
      "_________________________________________________________________\n",
      "lstm (LSTM)                  (None, 100)               80400     \n",
      "_________________________________________________________________\n",
      "dropout_1 (Dropout)          (None, 100)               0         \n",
      "_________________________________________________________________\n",
      "dense (Dense)                (None, 1)                 101       \n",
      "=================================================================\n",
      "Total params: 26,057,001\n",
      "Trainable params: 130,601\n",
      "Non-trainable params: 25,926,400\n",
      "_________________________________________________________________\n",
      "None\n"
     ]
    }
   ],
   "source": [
    "from keras.layers import LSTM, Conv1D, Dense, Flatten, MaxPooling1D, Dropout\n",
    "import tensorflow as tf\n",
    "from tensorflow.keras.callbacks import ReduceLROnPlateau\n",
    "from tensorflow import keras\n",
    "from keras.models import Sequential\n",
    "from tensorflow.keras import layers\n",
    "from tensorflow.keras.layers import Conv1D, Bidirectional, LSTM, Dense, Input, Dropout\n",
    "from tensorflow.keras.layers import SpatialDropout1D\n",
    "from tensorflow.keras.callbacks import ModelCheckpoint\n",
    "\n",
    "\n",
    "embedding_layer = tf.keras.layers.Embedding(num_words,100,weights=[embedded_matrix],\n",
    "                                       input_length=30,trainable=False)\n",
    "#setting trainable to false or true depending on wether we need trainable embeddings or not\n",
    "\n",
    "lstm_out = 100\n",
    "\n",
    "model = Sequential()\n",
    "model.add(embedding_layer)\n",
    "model.add(Conv1D(filters=100, kernel_size=5, activation='relu'))\n",
    "model.add(MaxPooling1D(pool_size=2))\n",
    "model.add(Dropout(0.7))\n",
    "model.add(LSTM(units=lstm_out))\n",
    "model.add(Dropout(0.7)) \n",
    "model.add(Dense(1, activation='sigmoid'))\n",
    "model.compile(loss='binary_crossentropy', optimizer='adam', metrics=['accuracy'])\n",
    "ReduceLROnPlateau = ReduceLROnPlateau(factor=0.1,min_lr = 0.01, monitor = 'val_loss',verbose = 1)\n",
    "print(model.summary())"
   ]
  },
  {
   "cell_type": "code",
   "execution_count": 6,
   "id": "bbed796d",
   "metadata": {},
   "outputs": [
    {
     "name": "stdout",
     "output_type": "stream",
     "text": [
      "Epoch 1/10\n",
      "1250/1250 [==============================] - 66s 51ms/step - loss: 0.5362 - accuracy: 0.7282 - val_loss: 0.4949 - val_accuracy: 0.7554\n",
      "Epoch 2/10\n",
      "1250/1250 [==============================] - 66s 53ms/step - loss: 0.5084 - accuracy: 0.7501 - val_loss: 0.4848 - val_accuracy: 0.7623\n",
      "Epoch 3/10\n",
      "1250/1250 [==============================] - 67s 54ms/step - loss: 0.5021 - accuracy: 0.7549 - val_loss: 0.4803 - val_accuracy: 0.7656\n",
      "Epoch 4/10\n",
      "1250/1250 [==============================] - 65s 52ms/step - loss: 0.4986 - accuracy: 0.7572 - val_loss: 0.4781 - val_accuracy: 0.7681\n",
      "Epoch 5/10\n",
      "1250/1250 [==============================] - 65s 52ms/step - loss: 0.4960 - accuracy: 0.7587 - val_loss: 0.4768 - val_accuracy: 0.7694\n",
      "Epoch 6/10\n",
      "1250/1250 [==============================] - 65s 52ms/step - loss: 0.4946 - accuracy: 0.7598 - val_loss: 0.4759 - val_accuracy: 0.7691\n",
      "Epoch 7/10\n",
      "1250/1250 [==============================] - 66s 53ms/step - loss: 0.4931 - accuracy: 0.7612 - val_loss: 0.4739 - val_accuracy: 0.7705\n",
      "Epoch 8/10\n",
      "1250/1250 [==============================] - 65s 52ms/step - loss: 0.4921 - accuracy: 0.7617 - val_loss: 0.4732 - val_accuracy: 0.7711\n",
      "Epoch 9/10\n",
      "1250/1250 [==============================] - 67s 54ms/step - loss: 0.4910 - accuracy: 0.7624 - val_loss: 0.4715 - val_accuracy: 0.7719\n",
      "Epoch 10/10\n",
      "1250/1250 [==============================] - 67s 53ms/step - loss: 0.4902 - accuracy: 0.7626 - val_loss: 0.4731 - val_accuracy: 0.7721\n"
     ]
    }
   ],
   "source": [
    "\n",
    "training = model.fit(x_train, y_train, batch_size=1024, epochs=10,\n",
    "                    validation_data=(x_valid, y_valid), callbacks=[ReduceLROnPlateau])"
   ]
  },
  {
   "cell_type": "code",
   "execution_count": 42,
   "id": "b9e95240",
   "metadata": {},
   "outputs": [
    {
     "name": "stderr",
     "output_type": "stream",
     "text": [
      "WARNING:absl:Found untraced functions such as lstm_cell_3_layer_call_fn, lstm_cell_3_layer_call_and_return_conditional_losses, lstm_cell_3_layer_call_fn, lstm_cell_3_layer_call_and_return_conditional_losses, lstm_cell_3_layer_call_and_return_conditional_losses while saving (showing 5 of 5). These functions will not be directly callable after loading.\n"
     ]
    },
    {
     "name": "stdout",
     "output_type": "stream",
     "text": [
      "INFO:tensorflow:Assets written to: lstm_TRUE_NOlem_100/assets\n"
     ]
    },
    {
     "name": "stderr",
     "output_type": "stream",
     "text": [
      "INFO:tensorflow:Assets written to: lstm_TRUE_NOlem_100/assets\n"
     ]
    }
   ],
   "source": [
    "model.save('lstm_TRUE_lem_100')"
   ]
  },
  {
   "cell_type": "code",
   "execution_count": 7,
   "id": "4d89a911",
   "metadata": {
    "scrolled": true
   },
   "outputs": [
    {
     "data": {
      "image/png": "[encoded data removed]",
      "text/plain": [
       "<Figure size 432x288 with 1 Axes>"
      ]
     },
     "metadata": {
      "needs_background": "light"
     },
     "output_type": "display_data"
    },
    {
     "data": {
      "image/png": "[encoded data removed]",
      "text/plain": [
       "<Figure size 432x288 with 1 Axes>"
      ]
     },
     "metadata": {
      "needs_background": "light"
     },
     "output_type": "display_data"
    }
   ],
   "source": [
    "import matplotlib.pyplot as plt\n",
    "def visualize_training_results(results):\n",
    "    history = results.history\n",
    "    plt.figure()\n",
    "    plt.plot(history['val_loss'])\n",
    "    plt.plot(history['loss'])\n",
    "    plt.legend(['val_loss', 'loss'])\n",
    "    plt.title('Loss')\n",
    "    plt.xlabel('Epochs')\n",
    "    plt.ylabel('Loss')\n",
    "    plt.show()\n",
    "    \n",
    "    plt.figure()\n",
    "    plt.plot(history['val_accuracy'])\n",
    "    plt.plot(history['accuracy'])\n",
    "    plt.legend(['val_accuracy', 'training_accuracy'])\n",
    "    plt.title('Accuracy')\n",
    "    plt.xlabel('Epochs')\n",
    "    plt.ylabel('Accuracy')\n",
    "    plt.show()\n",
    "    \n",
    "visualize_training_results(training)"
   ]
  },
  {
   "cell_type": "code",
   "execution_count": 10,
   "id": "70c88b17",
   "metadata": {},
   "outputs": [],
   "source": [
    "#prediction\n",
    "def predict_tweet_sentiment(score):\n",
    "    return 1 if score>0.5 else 0\n",
    "scores = model.predict(x_test)\n",
    "model_predictions = [predict_tweet_sentiment(score) for score in scores]\n",
    "y_pred = model_predictions"
   ]
  },
  {
   "cell_type": "code",
   "execution_count": 8,
   "id": "adf3ce73",
   "metadata": {},
   "outputs": [
    {
     "name": "stdout",
     "output_type": "stream",
     "text": [
      "5000/5000 [==============================] - 11s 2ms/step - loss: 0.4735 - accuracy: 0.7716\n"
     ]
    }
   ],
   "source": [
    "#evaluation\n",
    "results = model.evaluate(x_test,y_test)\n"
   ]
  },
  {
   "cell_type": "code",
   "execution_count": 61,
   "id": "9cb1f5a2",
   "metadata": {},
   "outputs": [
    {
     "name": "stdout",
     "output_type": "stream",
     "text": [
      "write a tweet : One of the perks of getting up early-ish is sometimes nature rewards you with a good sunrise! Expect high clouds to linger through the day with highs in the upper 60s to mid 70s. Winds will be a bit breezy out of the south at 10 to 20 mph with 25-30 mph gusts #txwx #sjtwx\n",
      "One of the perks of getting up early-ish is sometimes nature rewards you with a good sunrise! Expect high clouds to linger through the day with highs in the upper 60s to mid 70s. Winds will be a bit breezy out of the south at 10 to 20 mph with 25-30 mph gusts #txwx #sjtwx\n",
      "thats good\n",
      "[[0.56592274]]\n"
     ]
    }
   ],
   "source": [
    "import random\n",
    "import string\n",
    "\n",
    "texts_p = []\n",
    "prediction_input = input('write a tweet : ')\n",
    "prediction_input = ''.join(prediction_input)\n",
    "print(prediction_input)\n",
    "prediction_input = preprocess(prediction_input)#applying same preprocess to the input \n",
    "\n",
    "texts_p.append(prediction_input)\n",
    "prediction_input = pad_sequences(tokenizer.texts_to_sequences(texts_p),maxlen = 30)\n",
    "prediction = model.predict(prediction_input)\n",
    "if prediction>0.5 and prediction<0.75:\n",
    "    print(\"thats good\")\n",
    "    print(prediction)\n",
    "elif prediction>0.75:\n",
    "    print(\"thats very good!!\")\n",
    "    print(prediction)\n",
    "elif prediction<0.5 and prediction>0.25:\n",
    "    print(\"thats bad\")\n",
    "    print(prediction)\n",
    "else:\n",
    "    print(\"thats very bad\")\n",
    "    print(prediction)\n",
    "    "
   ]
  },
  {
   "cell_type": "code",
   "execution_count": 11,
   "id": "bc6e9478",
   "metadata": {},
   "outputs": [
    {
     "name": "stdout",
     "output_type": "stream",
     "text": [
      "              precision    recall  f1-score   support\n",
      "\n",
      "           0       0.77      0.78      0.77     79798\n",
      "           1       0.78      0.77      0.77     80202\n",
      "\n",
      "    accuracy                           0.77    160000\n",
      "   macro avg       0.77      0.77      0.77    160000\n",
      "weighted avg       0.77      0.77      0.77    160000\n",
      "\n"
     ]
    }
   ],
   "source": [
    "from sklearn.metrics import confusion_matrix, roc_curve,  roc_auc_score, classification_report\n",
    "print(classification_report(y_test,y_pred))"
   ]
  },
  {
   "cell_type": "code",
   "execution_count": 12,
   "id": "360f8a0b",
   "metadata": {},
   "outputs": [
    {
     "data": {
      "image/png": "[encoded data removed]",
      "text/plain": [
       "<Figure size 432x288 with 1 Axes>"
      ]
     },
     "metadata": {
      "needs_background": "light"
     },
     "output_type": "display_data"
    },
    {
     "data": {
      "text/plain": [
       "Text(0.5, 1.0, 'Confusion Matrix')"
      ]
     },
     "execution_count": 12,
     "metadata": {},
     "output_type": "execute_result"
    },
    {
     "data": {
      "image/png": "[encoded data removed]",
      "text/plain": [
       "<Figure size 432x288 with 2 Axes>"
      ]
     },
     "metadata": {
      "needs_background": "light"
     },
     "output_type": "display_data"
    }
   ],
   "source": [
    "\n",
    "import seaborn as sns\n",
    "import matplotlib.pyplot as plt\n",
    "\n",
    "\n",
    "\n",
    "#ROC\n",
    "rocAuc = roc_auc_score(y_test, y_pred)\n",
    "falsePositiveRate, truePositiveRate, _ = roc_curve(y_test, y_pred)\n",
    "plt.figure()\n",
    "plt.plot(falsePositiveRate, truePositiveRate, color='green',\n",
    "         lw=3, label='ROC curve (area = %0.2f)' % rocAuc)\n",
    "\n",
    "plt.xlim([0.0, 1.0])\n",
    "plt.ylim([0.0, 1.05])\n",
    "plt.xlabel('False Positive Rate')\n",
    "plt.ylabel('True Positive Rate')\n",
    "plt.title('ROC')\n",
    "plt.legend(loc=\"lower right\")\n",
    "plt.show()\n",
    "\n",
    "#CONFUSION\n",
    "\n",
    "cf_matrix = confusion_matrix(y_test, y_pred)\n",
    "categories = ['Negative','Positive']\n",
    "group_names = ['True Negative','False Positive', 'False Negative','True Positive']\n",
    "group_percentages = ['{0:.2%}'.format(value) for value in cf_matrix.flatten() / np.sum(cf_matrix)]\n",
    "labels = [f'{v1}n{v2}' for v1, v2 in zip(group_names,group_percentages)]\n",
    "labels = np.asarray(labels).reshape(2,2)\n",
    "sns.heatmap(cf_matrix, annot = labels, cmap = 'Blues',fmt = '',\n",
    "xticklabels = categories, yticklabels = categories)\n",
    "plt.xlabel(\"Predicted values\", fontdict = {'size':14}, labelpad = 10)\n",
    "plt.ylabel(\"Actual values\" , fontdict = {'size':14}, labelpad = 10)\n",
    "plt.title (\"Confusion Matrix\", fontdict = {'size':18}, pad = 20)\n",
    "\n",
    "\n",
    "\n",
    "\n",
    "\n"
   ]
  },
  {
   "cell_type": "code",
   "execution_count": null,
   "id": "62f43b99",
   "metadata": {},
   "outputs": [],
   "source": []
  }
 ],
 "metadata": {
  "kernelspec": {
   "display_name": "Python 3",
   "language": "python",
   "name": "python3"
  },
  "language_info": {
   "codemirror_mode": {
    "name": "ipython",
    "version": 3
   },
   "file_extension": ".py",
   "mimetype": "text/x-python",
   "name": "python",
   "nbconvert_exporter": "python",
   "pygments_lexer": "ipython3",
   "version": "3.6.15"
  }
 },
 "nbformat": 4,
 "nbformat_minor": 5
}

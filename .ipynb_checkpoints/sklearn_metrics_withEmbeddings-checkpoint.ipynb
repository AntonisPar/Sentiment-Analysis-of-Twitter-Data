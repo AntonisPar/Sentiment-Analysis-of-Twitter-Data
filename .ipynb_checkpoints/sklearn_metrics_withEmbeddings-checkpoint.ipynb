{
 "cells": [
  {
   "cell_type": "code",
   "execution_count": 1,
   "id": "fdfb2a6d",
   "metadata": {},
   "outputs": [
    {
     "name": "stderr",
     "output_type": "stream",
     "text": [
      "[nltk_data] Downloading package wordnet to /home/antonis/nltk_data...\n",
      "[nltk_data]   Package wordnet is already up-to-date!\n",
      "[nltk_data] Downloading package punkt to /home/antonis/nltk_data...\n",
      "[nltk_data]   Package punkt is already up-to-date!\n",
      "[nltk_data] Downloading package averaged_perceptron_tagger to\n",
      "[nltk_data]     /home/antonis/nltk_data...\n",
      "[nltk_data]   Package averaged_perceptron_tagger is already up-to-\n",
      "[nltk_data]       date!\n"
     ]
    },
    {
     "name": "stdout",
     "output_type": "stream",
     "text": [
      "727.9449108589979\n"
     ]
    }
   ],
   "source": [
    "import pandas as pd\n",
    "import nltk\n",
    "import re\n",
    "import string\n",
    "from collections import defaultdict\n",
    "import numpy as np\n",
    "from nltk.corpus import stopwords\n",
    "from gensim.models import Word2Vec\n",
    "from keras.preprocessing.text import Tokenizer\n",
    "from sklearn.model_selection import train_test_split\n",
    "from sklearn.preprocessing import LabelEncoder\n",
    "from tensorflow.keras.preprocessing.sequence import pad_sequences\n",
    "from sklearn.preprocessing import LabelEncoder\n",
    "import nltk\n",
    "from nltk.corpus import stopwords\n",
    "from nltk.stem import WordNetLemmatizer\n",
    "import numpy as np\n",
    "import os\n",
    "import threading\n",
    "from nltk.stem import SnowballStemmer\n",
    "from nltk.stem import PorterStemmer\n",
    "from nltk.corpus import wordnet\n",
    "import time\n",
    "from timeit import default_timer as timer\n",
    "\n",
    "basic_stopwords = stopwords.words('english')\n",
    "wordnet_lemmatizer = WordNetLemmatizer()\n",
    "snowball_stemmer = SnowballStemmer('english')\n",
    "nltk.download('wordnet')\n",
    "nltk.download('punkt')\n",
    "nltk.download('averaged_perceptron_tagger')\n",
    "\n",
    "basic_stopwords = stopwords.words('english')\n",
    "\n",
    "df = pd.read_csv(\"dataset2.csv\",encoding='latin')\n",
    "df = df.drop(df.columns[[1,2,3,4]],axis=1)\n",
    "df = df.rename(columns={df.columns[0]: 'target', df.columns[1]: 'tweet'})\n",
    "\n",
    "closed_categories = ['CC', 'CD', 'DT', 'EX', 'IN', 'LS', 'MD', 'PDT', 'POS', 'PRP', 'PRP$', 'RP', 'TO', 'UH', 'WDT',\n",
    "                     'WP', 'WP$', 'WRB']\n",
    "\n",
    "vocabulary = []\n",
    "\n",
    "def custom_lemmatizer(word, pos_tag): #takes as argument the word and the pos tag\n",
    "\n",
    "    flag = 0\n",
    "    for tag in closed_categories:\n",
    "        if pos_tag == tag: #if pos tag is a close category tag, the functions returns flag with value 1\n",
    "            flag = 1\n",
    "            return word\n",
    "    if flag == 0: #if not , the word gets lemmatized according to its part of speech\n",
    "        if pos_tag.startswith(\"N\"):\n",
    "            word = wordnet_lemmatizer.lemmatize(word, wordnet.NOUN)\n",
    "#             vocabulary.append(word)\n",
    "            return (word)\n",
    "        elif pos_tag.startswith('V'):\n",
    "            word = wordnet_lemmatizer.lemmatize(word, wordnet.VERB)\n",
    "#             vocabulary.append(word)\n",
    "            return (word)\n",
    "        elif pos_tag.startswith('J'):\n",
    "            word = wordnet_lemmatizer.lemmatize(word, wordnet.ADJ)\n",
    "            vocabulary.append(word)\n",
    "            return (word)\n",
    "        elif pos_tag.startswith('R'):\n",
    "            word = wordnet_lemmatizer.lemmatize(word, wordnet.ADV)\n",
    "#             vocabulary.append(word)\n",
    "            return (word)\n",
    "        else:\n",
    "            return word\n",
    "\n",
    "punctuation = string.punctuation\n",
    "def preprocess(tweet):\n",
    "    tweet = tweet.lower()\n",
    "    tweet = re.sub('((www.[^s]+)|(https?://[^s]+))',' ',tweet)\n",
    "    tweet = re.sub(r\"@\\S+\", \"\", tweet)                \n",
    "    tweet = nltk.word_tokenize(tweet)\n",
    "    remove_punctuation = str.maketrans('', '', punctuation)\n",
    "    tweet = [word.translate(remove_punctuation) for word in tweet if word not in basic_stopwords and word.isalnum() and not word.isdigit()]\n",
    "#     tweet = [PorterStemmer().stem(word) for word in tweet]\n",
    "    tagged_tweet = nltk.pos_tag(tweet)\n",
    "    tweet = [custom_lemmatizer(word[0],word[1]) for word in tagged_tweet]\n",
    "    tweet = [word for word in tweet if word is not None]\n",
    "    \n",
    "    return tweet\n",
    "\n",
    "start = timer()\n",
    "df.tweet =df.tweet.apply(lambda x:preprocess(x)) \n",
    "end = timer()\n",
    "print(end-start)"
   ]
  },
  {
   "cell_type": "code",
   "execution_count": 6,
   "id": "a46fc9ab",
   "metadata": {},
   "outputs": [],
   "source": [
    "test = df.copy()\n",
    "\n",
    "\n",
    "tokenizer = Tokenizer()\n",
    "\n",
    "tokenizer.fit_on_texts(test.tweet)\n",
    "\n",
    "vocabulary = tokenizer.word_index\n",
    "\n"
   ]
  },
  {
   "cell_type": "code",
   "execution_count": 21,
   "id": "e21fc5bd",
   "metadata": {},
   "outputs": [
    {
     "name": "stdout",
     "output_type": "stream",
     "text": [
      "<class 'dict'>\n"
     ]
    }
   ],
   "source": [
    "print(type(vocabulary))"
   ]
  },
  {
   "cell_type": "code",
   "execution_count": 27,
   "id": "e1265568",
   "metadata": {},
   "outputs": [],
   "source": [
    "#RUN FOR CUSTOM EMBEDDINGS\n",
    "model = Word2Vec(df.tweet,window=4,workers=4,min_count=1)\n",
    "all_normed_vectors = model.wv.get_normed_vectors()\n",
    "model.save('model.bin')\n",
    "\n",
    "filename = 'model.txt'\n",
    "model.wv.save_word2vec_format(filename,binary=False)\n",
    "\n",
    "word_vectors = {}\n",
    "\n",
    "file = open('model.txt',encoding='utf-8')\n",
    "\n",
    "for line in file:\n",
    "    vector_values = line.split()\n",
    "    vector = np.asarray(vector_values[1:])\n",
    "    word_vectors[vector_values[0]] = vector"
   ]
  },
  {
   "cell_type": "code",
   "execution_count": 32,
   "id": "055c6f35",
   "metadata": {},
   "outputs": [
    {
     "name": "stdout",
     "output_type": "stream",
     "text": [
      "['1.6908891' '1.0859848' '-0.8404083' '1.174619' '-1.0346106' '1.6748482'\n",
      " '-0.23878568' '0.6337525' '0.11350431' '0.23387103' '0.2268026'\n",
      " '-1.0731677' '0.36620367' '-0.62292886' '0.051857904' '-0.5736331'\n",
      " '0.4850998' '-1.4153879' '-0.23328602' '-0.79429835' '0.4209454'\n",
      " '1.197122' '0.9075144' '0.54167175' '-1.3059253' '-0.5117549' '1.9972175'\n",
      " '-1.4736198' '-0.07857121' '-0.09378007' '-0.73439044' '-0.5105255'\n",
      " '-0.65989876' '1.8473521' '0.4959836' '1.0184011' '-1.062384'\n",
      " '0.23646449' '-1.2765139' '-0.32888648' '-0.16871212' '-1.6957287'\n",
      " '0.2627335' '0.7171851' '-1.5769672' '0.32560796' '-0.45700923'\n",
      " '-0.9596682' '-1.210561' '2.1649692' '1.3554862' '-1.191453'\n",
      " '-0.0014459213' '0.16157968' '1.6737994' '-0.04216826' '-0.5662798'\n",
      " '0.3225265' '-0.93776184' '-0.25291038' '1.0037597' '-0.01489605'\n",
      " '0.37147823' '1.1383643' '-1.626093' '-0.25682953' '0.2603075'\n",
      " '-0.123516195' '0.62994236' '1.1604172' '0.32691765' '-1.0107297'\n",
      " '1.0832938' '-0.43800655' '-0.88515383' '0.5543121' '-0.31484216'\n",
      " '-1.3101696' '0.5066135' '-0.10221418' '1.2985349' '0.5781395'\n",
      " '0.22930612' '-2.2935555' '-1.5117841' '-0.0933961' '-0.71683997'\n",
      " '0.5532242' '-1.080419' '-0.07418853' '0.48763877' '-0.05395508'\n",
      " '-1.3513815' '0.25361615' '0.84648687' '0.41270456' '2.4299915'\n",
      " '0.7114342' '-0.6234453' '-0.10618864']\n"
     ]
    }
   ],
   "source": []
  },
  {
   "cell_type": "code",
   "execution_count": 39,
   "id": "b53cd4a8",
   "metadata": {},
   "outputs": [],
   "source": [
    "def tweet_to_vector(tweet):\n",
    "    i = 0\n",
    "    embedded_matrix = np.zeros((len(tweet)+1,100))\n",
    "    for word in tweet:\n",
    "        if word in vocabulary:\n",
    "            i = i+1\n",
    "            embedded_vector = word_vectors.get(word)\n",
    "            embedded_matrix[i] = embedded_vector\n",
    "    mean_vector = embedded_matrix.mean(axis=0)\n",
    "    return mean_vector\n",
    "df.tweet =df.tweet.apply(lambda x:tweet_to_vector(x)) "
   ]
  },
  {
   "cell_type": "code",
   "execution_count": 41,
   "id": "18b4072a",
   "metadata": {},
   "outputs": [],
   "source": [
    "df['target'] = df['target'].replace(4,1)\n"
   ]
  },
  {
   "cell_type": "code",
   "execution_count": 42,
   "id": "ff49361b",
   "metadata": {},
   "outputs": [],
   "source": [
    "X = df.tweet\n",
    "y = df.target\n",
    "\n"
   ]
  },
  {
   "cell_type": "code",
   "execution_count": 51,
   "id": "fc51fc67",
   "metadata": {},
   "outputs": [],
   "source": [
    "train_data, remaining_data = train_test_split(df, train_size=0.8,random_state=4324234)\n",
    "\n",
    "X_rem = pad_sequences(remaining_data.tweet,maxlen = 101)\n",
    "y_rem = remaining_data.target\n",
    "\n",
    "x_valid,x_test,y_valid,y_test = train_test_split(X_rem,y_rem, test_size=0.5,random_state=4354312)\n",
    "\n",
    "x_train = pad_sequences(train_data.tweet,maxlen = 101)\n",
    "# x_test = pad_sequences(tokenizer.texts_to_sequences(test_data.tweet),maxlen = 30)\n",
    "\n",
    "\n",
    "y_train = train_data.target"
   ]
  },
  {
   "cell_type": "code",
   "execution_count": 52,
   "id": "522bac4b",
   "metadata": {},
   "outputs": [],
   "source": [
    "# plotting\n",
    "import seaborn as sns\n",
    "import matplotlib.pyplot as plt\n",
    "from sklearn.metrics import confusion_matrix, classification_report\n",
    "\n",
    "def model_Evaluate(model):\n",
    "    y_pred = model.predict(x_test)\n",
    "    print(classification_report(y_test, y_pred))\n",
    "    cf_matrix = confusion_matrix(y_test, y_pred)\n",
    "    categories = ['Negative','Positive']\n",
    "    group_names = ['True Neg','False Pos', 'False Neg','True Pos']\n",
    "    group_percentages = ['{0:.2%}'.format(value) for value in cf_matrix.flatten() / np.sum(cf_matrix)]\n",
    "    labels = [f'{v1}n{v2}' for v1, v2 in zip(group_names,group_percentages)]\n",
    "    labels = np.asarray(labels).reshape(2,2)\n",
    "    sns.heatmap(cf_matrix, annot = labels, cmap = 'Blues',fmt = '',\n",
    "    xticklabels = categories, yticklabels = categories)\n",
    "    plt.xlabel(\"Predicted values\", fontdict = {'size':14}, labelpad = 10)\n",
    "    plt.ylabel(\"Actual values\" , fontdict = {'size':14}, labelpad = 10)\n",
    "    plt.title (\"Confusion Matrix\", fontdict = {'size':18}, pad = 20)\n"
   ]
  },
  {
   "cell_type": "code",
   "execution_count": 55,
   "id": "284b8443",
   "metadata": {},
   "outputs": [
    {
     "name": "stdout",
     "output_type": "stream",
     "text": [
      "              precision    recall  f1-score   support\n",
      "\n",
      "           0       0.64      0.57      0.60     79798\n",
      "           1       0.61      0.68      0.65     80202\n",
      "\n",
      "    accuracy                           0.63    160000\n",
      "   macro avg       0.63      0.62      0.62    160000\n",
      "weighted avg       0.63      0.63      0.62    160000\n",
      "\n"
     ]
    },
    {
     "data": {
      "image/png": "[encoded data removed]",
      "text/plain": [
       "<Figure size 432x288 with 2 Axes>"
      ]
     },
     "metadata": {
      "needs_background": "light"
     },
     "output_type": "display_data"
    }
   ],
   "source": [
    "from sklearn.linear_model import LogisticRegression\n",
    "\n",
    "LRmodel = LogisticRegression(max_iter = 1000, n_jobs=-1)\n",
    "LRmodel.fit(x_train, y_train)\n",
    "model_Evaluate(LRmodel)\n",
    "y_pred3 = LRmodel.predict(x_test)"
   ]
  },
  {
   "cell_type": "code",
   "execution_count": 56,
   "id": "a8884aad",
   "metadata": {},
   "outputs": [
    {
     "name": "stdout",
     "output_type": "stream",
     "text": [
      "              precision    recall  f1-score   support\n",
      "\n",
      "           0       0.59      0.52      0.56     79798\n",
      "           1       0.58      0.64      0.61     80202\n",
      "\n",
      "    accuracy                           0.58    160000\n",
      "   macro avg       0.59      0.58      0.58    160000\n",
      "weighted avg       0.59      0.58      0.58    160000\n",
      "\n"
     ]
    },
    {
     "data": {
      "image/png": "[encoded data removed]",
      "text/plain": [
       "<Figure size 432x288 with 2 Axes>"
      ]
     },
     "metadata": {
      "needs_background": "light"
     },
     "output_type": "display_data"
    }
   ],
   "source": [
    "from sklearn.naive_bayes import BernoulliNB\n",
    "\n",
    "BNBmodel = BernoulliNB()\n",
    "BNBmodel.fit(x_train, y_train)\n",
    "model_Evaluate(BNBmodel)\n",
    "y_pred1 = BNBmodel.predict(x_test)"
   ]
  },
  {
   "cell_type": "code",
   "execution_count": 57,
   "id": "9e9d5586",
   "metadata": {},
   "outputs": [
    {
     "name": "stderr",
     "output_type": "stream",
     "text": [
      "/home/antonis/.local/lib/python3.6/site-packages/sklearn/svm/_base.py:986: ConvergenceWarning: Liblinear failed to converge, increase the number of iterations.\n",
      "  \"the number of iterations.\", ConvergenceWarning)\n"
     ]
    },
    {
     "name": "stdout",
     "output_type": "stream",
     "text": [
      "              precision    recall  f1-score   support\n",
      "\n",
      "           0       0.64      0.57      0.60     79798\n",
      "           1       0.61      0.68      0.65     80202\n",
      "\n",
      "    accuracy                           0.62    160000\n",
      "   macro avg       0.63      0.62      0.62    160000\n",
      "weighted avg       0.63      0.62      0.62    160000\n",
      "\n"
     ]
    },
    {
     "data": {
      "image/png": "[encoded data removed]",
      "text/plain": [
       "<Figure size 432x288 with 2 Axes>"
      ]
     },
     "metadata": {
      "needs_background": "light"
     },
     "output_type": "display_data"
    }
   ],
   "source": [
    "from sklearn.svm import LinearSVC\n",
    "SVCmodel = LinearSVC()\n",
    "SVCmodel.fit(x_train, y_train)\n",
    "model_Evaluate(SVCmodel)\n",
    "y_pred2 = SVCmodel.predict(x_test)"
   ]
  },
  {
   "cell_type": "code",
   "execution_count": null,
   "id": "22ea1286",
   "metadata": {},
   "outputs": [],
   "source": []
  }
 ],
 "metadata": {
  "kernelspec": {
   "display_name": "Python 3",
   "language": "python",
   "name": "python3"
  },
  "language_info": {
   "codemirror_mode": {
    "name": "ipython",
    "version": 3
   },
   "file_extension": ".py",
   "mimetype": "text/x-python",
   "name": "python",
   "nbconvert_exporter": "python",
   "pygments_lexer": "ipython3",
   "version": "3.6.15"
  }
 },
 "nbformat": 4,
 "nbformat_minor": 5
}

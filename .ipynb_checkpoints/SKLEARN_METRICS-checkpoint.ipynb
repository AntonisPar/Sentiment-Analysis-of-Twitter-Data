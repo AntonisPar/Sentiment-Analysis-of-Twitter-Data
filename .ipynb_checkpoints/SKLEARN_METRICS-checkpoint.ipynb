{
 "cells": [
  {
   "cell_type": "code",
   "execution_count": 82,
   "id": "3918eef8",
   "metadata": {},
   "outputs": [
    {
     "name": "stderr",
     "output_type": "stream",
     "text": [
      "[nltk_data] Downloading package wordnet to /Users/antonis/nltk_data...\n",
      "[nltk_data]   Package wordnet is already up-to-date!\n",
      "[nltk_data] Downloading package punkt to /Users/antonis/nltk_data...\n",
      "[nltk_data]   Package punkt is already up-to-date!\n",
      "[nltk_data] Downloading package averaged_perceptron_tagger to\n",
      "[nltk_data]     /Users/antonis/nltk_data...\n",
      "[nltk_data]   Package averaged_perceptron_tagger is already up-to-\n",
      "[nltk_data]       date!\n"
     ]
    },
    {
     "name": "stdout",
     "output_type": "stream",
     "text": [
      "255.671104989\n"
     ]
    }
   ],
   "source": [
    "import pandas as pd\n",
    "import nltk\n",
    "import re\n",
    "import string\n",
    "import numpy as np\n",
    "from nltk.corpus import stopwords\n",
    "from gensim.models import Word2Vec\n",
    "from keras.preprocessing.text import Tokenizer\n",
    "from sklearn.model_selection import train_test_split\n",
    "from sklearn.preprocessing import LabelEncoder\n",
    "from tensorflow.keras.preprocessing.sequence import pad_sequences\n",
    "from sklearn.preprocessing import LabelEncoder\n",
    "import nltk\n",
    "from nltk.corpus import stopwords\n",
    "from nltk.stem import WordNetLemmatizer\n",
    "import numpy as np\n",
    "import os\n",
    "import threading\n",
    "from nltk.stem import SnowballStemmer\n",
    "from collections import defaultdict\n",
    "from nltk.stem import PorterStemmer\n",
    "from nltk.corpus import wordnet\n",
    "from timeit import default_timer as timer\n",
    "import timeit\n",
    "import time\n",
    "\n",
    "basic_stopwords = stopwords.words('english')\n",
    "wordnet_lemmatizer = WordNetLemmatizer()\n",
    "snowball_stemmer = SnowballStemmer('english')\n",
    "nltk.download('wordnet')\n",
    "nltk.download('punkt')\n",
    "nltk.download('averaged_perceptron_tagger')\n",
    "\n",
    "basic_stopwords = stopwords.words('english')\n",
    "\n",
    "df = pd.read_csv(\"dataset2.csv\",encoding='latin')\n",
    "df = df.drop(df.columns[[1,2,3,4]],axis=1)\n",
    "df = df.rename(columns={df.columns[0]: 'target', df.columns[1]: 'tweet'})\n",
    "\n",
    "vocabulary = []\n",
    "\n",
    "punctuation = string.punctuation\n",
    "\n",
    "def clean(data):\n",
    "    remove_punctuation = str.maketrans('', '', punctuation)\n",
    "    cleaned = defaultdict(list)\n",
    "    count = 0\n",
    "    for tweet in data:\n",
    "        tweet = tweet.lower()\n",
    "        tweet = re.sub('((www.[^s]+)|(https?://[^s]+))',' ',tweet)\n",
    "        tweet = re.sub(r\"@\\S+\", \"\", tweet) \n",
    "        for word in tweet.split():\n",
    "            if word not in basic_stopwords and word.isalnum() and not word.isdigit():\n",
    "                word = word.translate(remove_punctuation)\n",
    "#                 words = ps.stem(words) #creating stems\n",
    "                cleaned[count].append(word.lower())#to lowercase\n",
    "        cleaned[count] = ' '.join(cleaned[count])\n",
    "        count +=1\n",
    "    return(list(cleaned.values()))\n",
    "\n",
    "punctuation = string.punctuation\n",
    "def preprocess(tweet):\n",
    "    tweet = tweet.lower()\n",
    "    tweet = re.sub('((www.[^s]+)|(https?://[^s]+))',' ',tweet)\n",
    "    tweet = re.sub(r\"@\\S+\", \"\", tweet)                \n",
    "    tweet = nltk.word_tokenize(tweet)\n",
    "    remove_punctuation = str.maketrans('', '', punctuation)\n",
    "    tweet = [word.translate(remove_punctuation) for word in tweet if word not in basic_stopwords and word.isalnum() and not word.isdigit()]\n",
    "#     tweet = [PorterStemmer().stem(word) for word in tweet]\n",
    "#     tagged_tweet = nltk.pos_tag(tweet)\n",
    "#     tweet = [custom_lemmatizer(word[0],word[1]) for word in tagged_tweet]\n",
    "#     tweet = [word for word in tweet if word is not None]\n",
    "    tweet = ' '.join(tweet)\n",
    "    \n",
    "    return tweet\n",
    "\n",
    "start = timer()\n",
    "X = df.tweet.apply(lambda x:preprocess(x)) \n",
    "Y = df['target']\n",
    "end = timer()\n",
    "print(end - start)\n",
    "\n"
   ]
  },
  {
   "cell_type": "code",
   "execution_count": 83,
   "id": "a4cfb65d",
   "metadata": {},
   "outputs": [],
   "source": [
    "df['target'] = df['target'].replace(4,1)"
   ]
  },
  {
   "cell_type": "code",
   "execution_count": 84,
   "id": "46e75a4d",
   "metadata": {},
   "outputs": [
    {
     "data": {
      "text/plain": [
       "array([0, 1])"
      ]
     },
     "execution_count": 84,
     "metadata": {},
     "output_type": "execute_result"
    }
   ],
   "source": [
    "df['target'].unique()"
   ]
  },
  {
   "cell_type": "code",
   "execution_count": 85,
   "id": "c9b1b2a7",
   "metadata": {},
   "outputs": [],
   "source": [
    "\n",
    "x_train, x_test, y_train, y_test = train_test_split(X,Y,test_size = 0.05, random_state =261051134)"
   ]
  },
  {
   "cell_type": "code",
   "execution_count": 86,
   "id": "f370dd78",
   "metadata": {},
   "outputs": [
    {
     "name": "stdout",
     "output_type": "stream",
     "text": [
      "836331                                   liked one aswell\n",
      "455165                 dads hostipal waiting mom get home\n",
      "1571796                      happens nap becomes sleeping\n",
      "608836     time start another long day training work sigh\n",
      "30759            back future great tour shame ca come see\n",
      "                                ...                      \n",
      "1442362           please come ohio specifically cleveland\n",
      "1391295                                                  \n",
      "1222957                           swb yankees game kiddos\n",
      "1088254     good scary movie cheesy parts eh thought good\n",
      "402433               went get mail smells like rain great\n",
      "Name: tweet, Length: 80000, dtype: object\n"
     ]
    }
   ],
   "source": [
    "print(x_test)"
   ]
  },
  {
   "cell_type": "code",
   "execution_count": 87,
   "id": "4defba4c",
   "metadata": {},
   "outputs": [
    {
     "name": "stdout",
     "output_type": "stream",
     "text": [
      "No. of feature_words:  500000\n"
     ]
    }
   ],
   "source": [
    "from sklearn.feature_extraction.text import TfidfVectorizer\n",
    "\n",
    "\n",
    "vectoriser = TfidfVectorizer(ngram_range=(1,2), max_features=500000)\n",
    "vectoriser.fit(x_train)\n",
    "print('No. of feature_words: ', len(vectoriser.get_feature_names()))\n",
    "x_train = vectoriser.transform(x_train)\n",
    "x_test = vectoriser.transform(x_test)"
   ]
  },
  {
   "cell_type": "code",
   "execution_count": 88,
   "id": "97618518",
   "metadata": {},
   "outputs": [
    {
     "name": "stdout",
     "output_type": "stream",
     "text": [
      "  (0, 392644)\t0.6350532262553701\n",
      "  (0, 392491)\t0.38501838770224894\n",
      "  (0, 286274)\t0.5030662823838515\n",
      "  (0, 285508)\t0.2643690993582434\n",
      "  (0, 208820)\t0.35426195927139664\n"
     ]
    }
   ],
   "source": [
    "kappa = 'matkaps started a new job'\n",
    "kappa = [kappa]\n",
    "kappa = vectoriser.transform(kappa)\n",
    "print(kappa)"
   ]
  },
  {
   "cell_type": "code",
   "execution_count": 89,
   "id": "b02d16aa",
   "metadata": {},
   "outputs": [],
   "source": [
    "# plotting\n",
    "import seaborn as sns\n",
    "import matplotlib.pyplot as plt\n",
    "from sklearn.metrics import confusion_matrix, classification_report\n",
    "\n",
    "def model_Evaluate(model):\n",
    "    y_pred = model.predict(x_test)\n",
    "    print(classification_report(y_test, y_pred))\n",
    "    cf_matrix = confusion_matrix(y_test, y_pred)\n",
    "    categories = ['Negative','Positive']\n",
    "    group_names = ['True Neg','False Pos', 'False Neg','True Pos']\n",
    "    group_percentages = ['{0:.2%}'.format(value) for value in cf_matrix.flatten() / np.sum(cf_matrix)]\n",
    "    labels = [f'{v1}n{v2}' for v1, v2 in zip(group_names,group_percentages)]\n",
    "    labels = np.asarray(labels).reshape(2,2)\n",
    "    sns.heatmap(cf_matrix, annot = labels, cmap = 'Blues',fmt = '',\n",
    "    xticklabels = categories, yticklabels = categories)\n",
    "    plt.xlabel(\"Predicted values\", fontdict = {'size':14}, labelpad = 10)\n",
    "    plt.ylabel(\"Actual values\" , fontdict = {'size':14}, labelpad = 10)\n",
    "    plt.title (\"Confusion Matrix\", fontdict = {'size':18}, pad = 20)\n"
   ]
  },
  {
   "cell_type": "code",
   "execution_count": 90,
   "id": "897e3dea",
   "metadata": {},
   "outputs": [
    {
     "name": "stdout",
     "output_type": "stream",
     "text": [
      "              precision    recall  f1-score   support\n",
      "\n",
      "           0       0.81      0.78      0.79     39898\n",
      "           1       0.79      0.82      0.80     40102\n",
      "\n",
      "    accuracy                           0.80     80000\n",
      "   macro avg       0.80      0.80      0.80     80000\n",
      "weighted avg       0.80      0.80      0.80     80000\n",
      "\n"
     ]
    },
    {
     "data": {
      "image/png": "[encoded data removed]",
      "text/plain": [
       "<Figure size 432x288 with 2 Axes>"
      ]
     },
     "metadata": {
      "needs_background": "light"
     },
     "output_type": "display_data"
    }
   ],
   "source": [
    "from sklearn.linear_model import LogisticRegression\n",
    "\n",
    "LRmodel = LogisticRegression(max_iter = 1000, n_jobs=-1)\n",
    "LRmodel.fit(x_train, y_train)\n",
    "model_Evaluate(LRmodel)\n",
    "y_pred3 = LRmodel.predict(x_test)"
   ]
  },
  {
   "cell_type": "code",
   "execution_count": 91,
   "id": "789201b4",
   "metadata": {},
   "outputs": [
    {
     "name": "stdout",
     "output_type": "stream",
     "text": [
      "fuck\n"
     ]
    }
   ],
   "source": [
    "cleaned = preprocess('why the fuck')\n",
    "print(cleaned)"
   ]
  },
  {
   "cell_type": "code",
   "execution_count": 102,
   "id": "674df0ac",
   "metadata": {},
   "outputs": [
    {
     "name": "stdout",
     "output_type": "stream",
     "text": [
      "write a tweet : matkaps started a new job\n",
      "matkaps started a new job\n",
      "thats good\n",
      "[1]\n"
     ]
    }
   ],
   "source": [
    "import random\n",
    "import string\n",
    "\n",
    "texts_p = []\n",
    "prediction_input = input('write a tweet : ')\n",
    "prediction_input = ''.join(prediction_input)\n",
    "print(prediction_input)\n",
    "prediction_input = preprocess(prediction_input)\n",
    "prediction_input = [prediction_input]\n",
    "prediction_input = vectoriser.transform(prediction_input)\n",
    "prediction = LRmodel.predict(prediction_input)\n",
    "if prediction==1:\n",
    "    print(\"thats good\")\n",
    "    print(prediction)\n",
    "else:\n",
    "    print(\"thats very bad\")\n",
    "    print(prediction)"
   ]
  },
  {
   "cell_type": "code",
   "execution_count": null,
   "id": "7056110d",
   "metadata": {},
   "outputs": [],
   "source": [
    "from sklearn.naive_bayes import BernoulliNB\n",
    "\n",
    "BNBmodel = BernoulliNB()\n",
    "BNBmodel.fit(x_train, y_train)\n",
    "model_Evaluate(BNBmodel)\n",
    "y_pred1 = BNBmodel.predict(x_test)"
   ]
  },
  {
   "cell_type": "code",
   "execution_count": 115,
   "id": "e50d4a16",
   "metadata": {},
   "outputs": [
    {
     "name": "stdout",
     "output_type": "stream",
     "text": [
      "              precision    recall  f1-score   support\n",
      "\n",
      "           0       0.76      0.73      0.75     39898\n",
      "           4       0.74      0.78      0.76     40102\n",
      "\n",
      "    accuracy                           0.75     80000\n",
      "   macro avg       0.75      0.75      0.75     80000\n",
      "weighted avg       0.75      0.75      0.75     80000\n",
      "\n"
     ]
    },
    {
     "data": {
      "image/png": "[encoded data removed]",
      "text/plain": [
       "<Figure size 432x288 with 2 Axes>"
      ]
     },
     "metadata": {
      "needs_background": "light"
     },
     "output_type": "display_data"
    }
   ],
   "source": [
    "from sklearn.svm import LinearSVC\n",
    "SVCmodel = LinearSVC()\n",
    "SVCmodel.fit(x_train, y_train)\n",
    "model_Evaluate(SVCmodel)\n",
    "y_pred2 = SVCmodel.predict(x_test)"
   ]
  },
  {
   "cell_type": "code",
   "execution_count": null,
   "id": "92bff594",
   "metadata": {},
   "outputs": [],
   "source": [
    "from sklearn.tree import DecisionTreeClassifier\n"
   ]
  }
 ],
 "metadata": {
  "kernelspec": {
   "display_name": "Python 3 (ipykernel)",
   "language": "python",
   "name": "python3"
  },
  "language_info": {
   "codemirror_mode": {
    "name": "ipython",
    "version": 3
   },
   "file_extension": ".py",
   "mimetype": "text/x-python",
   "name": "python",
   "nbconvert_exporter": "python",
   "pygments_lexer": "ipython3",
   "version": "3.9.7"
  }
 },
 "nbformat": 4,
 "nbformat_minor": 5
}
